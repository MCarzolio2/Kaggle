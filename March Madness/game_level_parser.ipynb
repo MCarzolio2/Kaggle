{
 "metadata": {
  "name": "",
  "signature": "sha256:c536fc6c1c8373e013581855e6ae1569dfd1b20b638da024d83f07e727a818aa"
 },
 "nbformat": 3,
 "nbformat_minor": 0,
 "worksheets": [
  {
   "cells": [
    {
     "cell_type": "code",
     "collapsed": false,
     "input": [
      "import pandas as pd\n",
      "import numpy as np\n",
      "from matplotlib import pyplot as plt"
     ],
     "language": "python",
     "metadata": {},
     "outputs": [],
     "prompt_number": 1
    },
    {
     "cell_type": "code",
     "collapsed": false,
     "input": [
      "def convert_score_to_spread(play):\n",
      "    if len(play['Time'].split(':'))!=2:\n",
      "        return(None)\n",
      "    spread = np.diff([int(score) for score in str(play['Score']).split('-')])\n",
      "    return(spread)"
     ],
     "language": "python",
     "metadata": {},
     "outputs": [],
     "prompt_number": 2
    },
    {
     "cell_type": "code",
     "collapsed": false,
     "input": [
      "def get_plays(url):\n",
      "    \n",
      "    parsed_html = pd.read_html(url)\n",
      "    \n",
      "    # Need to handle indices of periods:\n",
      "    first_ind = 0\n",
      "    while parsed_html[first_ind].irow(0)[0]!='Time':\n",
      "        first_ind += 1\n",
      "    inds = first_ind + np.arange(0,int(np.ceil((len(parsed_html)-4)/2.)))*2\n",
      "    \n",
      "    # Concatenate tables to get a table of plays:\n",
      "    plays = pd.concat([parsed_html[ind].irow(range(1,parsed_html[ind].shape[0])) for ind in inds])\n",
      "    plays.columns = parsed_html[inds[0]].irow(0)\n",
      "    plays.index = range(plays.shape[0])\n",
      "    \n",
      "    \n",
      "    # Compute seconds in for each play:\n",
      "    seconds_in = range(plays.shape[0])\n",
      "    period_counter = 0\n",
      "    \n",
      "    for i in range(plays.shape[0]):\n",
      "        time = plays.irow(i)['Time'].split(':')\n",
      "        if len(time) != 2:\n",
      "            seconds_in[i] = None\n",
      "            period_counter += 1\n",
      "        else:\n",
      "            \n",
      "            if period_counter <= 1:\n",
      "                offset = period_counter*60*20\n",
      "            else:\n",
      "                offset = 60*20+(period_counter-1)*60*5\n",
      "            seconds = 60*20-60*int(time[0])-int(time[1])\n",
      "            seconds_in[i] = offset+seconds\n",
      "    \n",
      "    # Drop NAs:\n",
      "    non_na_inds = [ind for ind in np.where(pd.notnull(plays['Score']))][0]\n",
      "    seconds_in = [seconds_in[ind] for ind in non_na_inds]\n",
      "    plays = plays.irow(non_na_inds)\n",
      "    \n",
      "    # Check that score hasn't reversed:\n",
      "    last_score = [0,0]\n",
      "    for i in range(plays.shape[0]):\n",
      "        current_score = [int(scr) for scr in plays.irow(i)['Score'].split('-')]\n",
      "        \n",
      "        cond1 = (current_score[0]>last_score[0])&(pd.isnull(plays.irow(i)[1]))\n",
      "        cond2 = (current_score[1]>last_score[1])&(pd.isnull(plays.irow(i)[3]))\n",
      "        cond3 = (current_score[0] < last_score[0]) or (current_score[1] < last_score[1])\n",
      "        \n",
      "        cond = (cond1|cond2|cond3)\n",
      "        \n",
      "        if (cond):\n",
      "            score1,score2 = plays.irow(i)['Score'].split('-')\n",
      "            plays.irow(i)['Score'] = score2+'-'+score1\n",
      "            last_score = current_score[::-1]\n",
      "        else:\n",
      "            last_score = current_score\n",
      "    \n",
      "    \n",
      "    # Add seconds in and point spread to table:\n",
      "    plays['Seconds In'] = seconds_in\n",
      "    if(plays.columns[1] == 'Virginia Tech'):\n",
      "        plays['Spread'] = -plays.apply(convert_score_to_spread,axis=1)['Score']\n",
      "    else:\n",
      "        plays['Spread'] = plays.apply(convert_score_to_spread,axis=1)['Score']\n",
      "    \n",
      "    \n",
      "    return(plays)"
     ],
     "language": "python",
     "metadata": {},
     "outputs": [],
     "prompt_number": 109
    },
    {
     "cell_type": "code",
     "collapsed": false,
     "input": [
      "if __name__ == '__main__':\n",
      "    from matplotlib import pylab as plt\n",
      "    %pylab\n",
      "    url = 'http://stats.ncaa.org/game/play_by_play/3201239'\n",
      "    plays = get_plays(url)\n",
      "    \n",
      "    plot([0, 3000], [0, 0], color='k', linestyle='--', linewidth=2)\n",
      "    plot(plays['Seconds In'],plays['Spread'])\n",
      "    \n",
      "    xlabel('Seconds in')\n",
      "    ylabel('VT Score - Duke Score')\n",
      "    title('Point Spread Evolution Through the Duke@VT Game')\n",
      "    \n",
      "    "
     ],
     "language": "python",
     "metadata": {},
     "outputs": [
      {
       "output_type": "stream",
       "stream": "stdout",
       "text": [
        "Using matplotlib backend: WXAgg\n",
        "Populating the interactive namespace from numpy and matplotlib\n"
       ]
      },
      {
       "output_type": "stream",
       "stream": "stderr",
       "text": [
        "WARNING: pylab import has clobbered these variables: ['plt']\n",
        "`%matplotlib` prevents importing * from pylab and numpy\n"
       ]
      }
     ],
     "prompt_number": 110
    },
    {
     "cell_type": "code",
     "collapsed": false,
     "input": [],
     "language": "python",
     "metadata": {},
     "outputs": []
    }
   ],
   "metadata": {}
  }
 ]
}