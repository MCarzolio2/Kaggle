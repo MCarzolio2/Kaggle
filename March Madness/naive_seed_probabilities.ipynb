{
 "metadata": {
  "name": ""
 },
 "nbformat": 3,
 "nbformat_minor": 0,
 "worksheets": [
  {
   "cells": [
    {
     "cell_type": "code",
     "collapsed": false,
     "input": [
      "import pandas as pd\n",
      "import numpy as np"
     ],
     "language": "python",
     "metadata": {},
     "outputs": [],
     "prompt_number": 1
    },
    {
     "cell_type": "code",
     "collapsed": false,
     "input": [
      "def generate_probs(submission):\n",
      "    \n",
      "    # Input is the sample submission file, which looks like:\n",
      "    # \tid\t            pred\n",
      "    # 0\t2011_1103_1106\t0.5\n",
      "    # 1\t2011_1103_1112\t0.5\n",
      "    # 2\t2011_1103_1114\t0.5\n",
      "    # 3\t2011_1103_1125\t0.5\n",
      "    # 4\t2011_1103_1131\t0.5\n",
      "    \n",
      "    # Will make in-place changes to pred column of submission file\n",
      "    \n",
      "    for i in range(submission.shape[0]):\n",
      "        teams = submission.irow(i)['id'].split('_')\n",
      "        team1 = np.int(teams[1])\n",
      "        team2 = np.int(teams[2])\n",
      "        year = np.int(teams[0])\n",
      "        \n",
      "        ind1 = np.where((tourney_seeds['season']==year)&(tourney_seeds['team']==team1))[0][0]\n",
      "        ind2 = np.where((tourney_seeds['season']==year)&(tourney_seeds['team']==team2))[0][0]\n",
      "        \n",
      "        team1_seed = np.int(tourney_seeds['seed'][ind1][1:3])\n",
      "        team2_seed = np.int(tourney_seeds['seed'][ind2][1:3])\n",
      "        \n",
      "        if team1_seed < team2_seed:\n",
      "            submission.loc[i,'pred'] = 0.9\n",
      "        elif team1_seed > team2_seed:\n",
      "            submission.loc[i,'pred'] = 0.1\n",
      "        elif team1_seed == team2_seed:\n",
      "            submission.loc[i,'pred'] = 0.5"
     ],
     "language": "python",
     "metadata": {},
     "outputs": [],
     "prompt_number": 12
    },
    {
     "cell_type": "code",
     "collapsed": false,
     "input": [
      "if __name__ == '__main__':\n",
      "    \n",
      "    tourney_seeds = pd.read_csv('Data/tourney_seeds.csv')\n",
      "    sample = pd.read_csv('Data/sample_submission.csv')\n",
      "    \n",
      "    generate_probs(sample)\n",
      "    sample.to_csv('Data/naive_submission.csv',index=False)"
     ],
     "language": "python",
     "metadata": {},
     "outputs": [],
     "prompt_number": 13
    },
    {
     "cell_type": "code",
     "collapsed": false,
     "input": [],
     "language": "python",
     "metadata": {},
     "outputs": []
    }
   ],
   "metadata": {}
  }
 ]
}