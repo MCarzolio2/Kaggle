{
 "metadata": {
  "name": ""
 },
 "nbformat": 3,
 "nbformat_minor": 0,
 "worksheets": [
  {
   "cells": [
    {
     "cell_type": "code",
     "collapsed": false,
     "input": [
      "import pandas as pd\n",
      "import numpy as np"
     ],
     "language": "python",
     "metadata": {},
     "outputs": [],
     "prompt_number": 1
    },
    {
     "cell_type": "code",
     "collapsed": false,
     "input": [
      "ls Data"
     ],
     "language": "python",
     "metadata": {},
     "outputs": [
      {
       "output_type": "stream",
       "stream": "stdout",
       "text": [
        "naive_submission.csv                 seasons.csv                   tourney_seeds.csv\r\n",
        "regular_season_compact_results.csv   teams.csv                     tourney_slots.csv\r\n",
        "regular_season_detailed_results.csv  tourney_compact_results.csv\r\n",
        "sample_submission.csv                tourney_detailed_results.csv\r\n"
       ]
      }
     ],
     "prompt_number": 2
    },
    {
     "cell_type": "code",
     "collapsed": false,
     "input": [
      "tourney_seeds = pd.read_csv('Data/tourney_seeds.csv')\n",
      "sample = pd.read_csv('Data/sample_submission.csv')\n",
      "regular_season_detailed_results = pd.read_csv('Data/regular_season_detailed_results.csv')"
     ],
     "language": "python",
     "metadata": {},
     "outputs": [],
     "prompt_number": 3
    },
    {
     "cell_type": "code",
     "collapsed": false,
     "input": [
      "regular_season_detailed_results.columns"
     ],
     "language": "python",
     "metadata": {},
     "outputs": [
      {
       "metadata": {},
       "output_type": "pyout",
       "prompt_number": 5,
       "text": [
        "Index([u'season', u'daynum', u'wteam', u'wscore', u'lteam', u'lscore', u'wloc', u'numot', u'wfgm', u'wfga', u'wfgm3', u'wfga3', u'wftm', u'wfta', u'wor', u'wdr', u'wast', u'wto', u'wstl', u'wblk', u'wpf', u'lfgm', u'lfga', u'lfgm3', u'lfga3', u'lftm', u'lfta', u'lor', u'ldr', u'last', u'lto', u'lstl', u'lblk', u'lpf'], dtype='object')"
       ]
      }
     ],
     "prompt_number": 5
    },
    {
     "cell_type": "code",
     "collapsed": false,
     "input": [],
     "language": "python",
     "metadata": {},
     "outputs": []
    }
   ],
   "metadata": {}
  }
 ]
}